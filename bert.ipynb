{
 "cells": [
  {
   "cell_type": "code",
   "execution_count": 8,
   "metadata": {
    "ExecuteTime": {
     "end_time": "2024-02-26T12:55:48.081278200Z",
     "start_time": "2024-02-26T12:54:00.512522900Z"
    }
   },
   "outputs": [
    {
     "name": "stderr",
     "output_type": "stream",
     "text": [
      "Some weights of the PyTorch model were not used when initializing the TF 2.0 model TFBertModel: ['cls.predictions.bias', 'cls.predictions.transform.LayerNorm.bias', 'cls.predictions.transform.dense.weight', 'cls.seq_relationship.bias', 'cls.seq_relationship.weight', 'cls.predictions.transform.LayerNorm.weight', 'cls.predictions.transform.dense.bias']\n",
      "- This IS expected if you are initializing TFBertModel from a PyTorch model trained on another task or with another architecture (e.g. initializing a TFBertForSequenceClassification model from a BertForPreTraining model).\n",
      "- This IS NOT expected if you are initializing TFBertModel from a PyTorch model that you expect to be exactly identical (e.g. initializing a TFBertForSequenceClassification model from a BertForSequenceClassification model).\n",
      "All the weights of TFBertModel were initialized from the PyTorch model.\n",
      "If your task is similar to the task the model of the checkpoint was trained on, you can already use TFBertModel for predictions without further training.\n"
     ]
    },
    {
     "name": "stdout",
     "output_type": "stream",
     "text": [
      "Epoch 1/5\n",
      "WARNING:tensorflow:From C:\\Users\\erga9\\AppData\\Local\\Programs\\Python\\Python311\\Lib\\site-packages\\keras\\src\\utils\\tf_utils.py:492: The name tf.ragged.RaggedTensorValue is deprecated. Please use tf.compat.v1.ragged.RaggedTensorValue instead.\n",
      "211/211 [==============================] - 2s 5ms/step - loss: 26334900224.0000 - val_loss: 26363328512.0000\n",
      "Epoch 2/5\n",
      "211/211 [==============================] - 1s 4ms/step - loss: 26334806016.0000 - val_loss: 26363228160.0000\n",
      "Epoch 3/5\n",
      "211/211 [==============================] - 1s 4ms/step - loss: 26334703616.0000 - val_loss: 26363127808.0000\n",
      "Epoch 4/5\n",
      "211/211 [==============================] - 1s 4ms/step - loss: 26334601216.0000 - val_loss: 26363031552.0000\n",
      "Epoch 5/5\n",
      "211/211 [==============================] - 1s 4ms/step - loss: 26334513152.0000 - val_loss: 26362929152.0000\n",
      "59/59 [==============================] - 1s 3ms/step\n",
      "Mean Squared Error: 27267752512.135155\n",
      "Root Mean Squared Error: 165129.50224637374\n"
     ]
    }
   ],
   "source": [
    "import numpy as np\n",
    "import pandas as pd\n",
    "from sklearn.model_selection import train_test_split\n",
    "from sklearn.metrics import mean_squared_error\n",
    "from transformers import BertTokenizer, TFBertModel\n",
    "from tensorflow.keras.layers import Input, Dense, GlobalAveragePooling1D\n",
    "from tensorflow.keras.models import Model\n",
    "from tensorflow.keras.optimizers import Adam\n",
    "\n",
    "# Load your data\n",
    "df = pd.read_csv(\"jobs_in_data.csv\")\n",
    "\n",
    "# Define features and target variable\n",
    "X = df[\"job_title\"]  # Assuming \"job_title\" contains the text data\n",
    "y = df[\"salary\"]\n",
    "\n",
    "# Split data into train and test sets\n",
    "X_train, X_test, y_train, y_test = train_test_split(X, y, test_size=0.2, random_state=42)\n",
    "\n",
    "# Load BERT tokenizer\n",
    "tokenizer = BertTokenizer.from_pretrained(\"bert-base-uncased\")\n",
    "\n",
    "# Tokenize input text data\n",
    "max_length = 64  # Maximum sequence length for BERT\n",
    "xtrain_tokenized = tokenizer(X_train.tolist(), padding=True, truncation=True, max_length=max_length, return_tensors=\"tf\")\n",
    "xtest_tokenized = tokenizer(X_test.tolist(), padding=True, truncation=True, max_length=max_length, return_tensors=\"tf\")\n",
    "\n",
    "# Load pre-trained BERT model\n",
    "bert_model = TFBertModel.from_pretrained(\"bert-base-uncased\")\n",
    "\n",
    "# Freeze BERT layers (optional)\n",
    "bert_model.trainable = False\n",
    "\n",
    "# Extract BERT embeddings\n",
    "xtrain_bert_output = bert_model(xtrain_tokenized)\n",
    "xtest_bert_output = bert_model(xtest_tokenized)\n",
    "\n",
    "# Aggregate BERT embeddings\n",
    "xtrain_aggregated = GlobalAveragePooling1D()(xtrain_bert_output.last_hidden_state)\n",
    "xtest_aggregated = GlobalAveragePooling1D()(xtest_bert_output.last_hidden_state)\n",
    "\n",
    "# Define and compile the model\n",
    "input_layer = Input(shape=(bert_model.config.hidden_size,))\n",
    "output_layer = Dense(1, activation='linear')(input_layer)\n",
    "model = Model(inputs=input_layer, outputs=output_layer)\n",
    "optimizer = Adam(learning_rate=1e-5)  # Adjust learning rate as needed\n",
    "model.compile(optimizer=optimizer, loss='mean_squared_error')\n",
    "\n",
    "# Train the model\n",
    "model.fit(xtrain_aggregated, y_train, epochs=5, batch_size=32, validation_split=0.1)\n",
    "\n",
    "# Evaluate the model\n",
    "y_pred = model.predict(xtest_aggregated)\n",
    "mse = mean_squared_error(y_test, y_pred)\n",
    "print(\"Mean Squared Error:\", mse)\n",
    "print(\"Root Mean Squared Error:\", np.sqrt(mse))\n"
   ]
  }
 ],
 "metadata": {
  "kernelspec": {
   "display_name": "Python 3",
   "language": "python",
   "name": "python3"
  },
  "language_info": {
   "codemirror_mode": {
    "name": "ipython",
    "version": 3
   },
   "file_extension": ".py",
   "mimetype": "text/x-python",
   "name": "python",
   "nbconvert_exporter": "python",
   "pygments_lexer": "ipython3",
   "version": "3.11.0"
  }
 },
 "nbformat": 4,
 "nbformat_minor": 2
}
