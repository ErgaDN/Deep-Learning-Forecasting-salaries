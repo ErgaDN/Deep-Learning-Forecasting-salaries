{
 "cells": [
  {
   "cell_type": "code",
   "execution_count": 12,
   "id": "initial_id",
   "metadata": {
    "ExecuteTime": {
     "end_time": "2024-02-26T14:24:43.275310600Z",
     "start_time": "2024-02-26T14:24:10.011284100Z"
    },
    "collapsed": true
   },
   "outputs": [
    {
     "name": "stderr",
     "output_type": "stream",
     "text": [
      "WARNING:absl:`lr` is deprecated in Keras optimizer, please use `learning_rate` or use the legacy optimizer, e.g.,tf.keras.optimizers.legacy.Adam.\n"
     ]
    },
    {
     "name": "stdout",
     "output_type": "stream",
     "text": [
      "Epoch 1/50\n",
      "211/211 [==============================] - 68s 292ms/step - loss: 22103.6230 - val_loss: 20112.3770\n",
      "Epoch 2/50\n",
      "211/211 [==============================] - 75s 357ms/step - loss: 18476.0820 - val_loss: 17087.8145\n",
      "Epoch 3/50\n",
      "211/211 [==============================] - 69s 327ms/step - loss: 15712.1338 - val_loss: 14546.9629\n",
      "Epoch 4/50\n",
      "211/211 [==============================] - 70s 332ms/step - loss: 13358.9131 - val_loss: 12400.0576\n",
      "Epoch 5/50\n",
      "211/211 [==============================] - 65s 307ms/step - loss: 11410.1299 - val_loss: 10603.4629\n",
      "Epoch 6/50\n",
      "211/211 [==============================] - 70s 333ms/step - loss: 9758.1309 - val_loss: 9111.9453\n",
      "Epoch 7/50\n",
      "211/211 [==============================] - 71s 336ms/step - loss: 8407.3184 - val_loss: 7893.2778\n",
      "Epoch 8/50\n",
      "211/211 [==============================] - 62s 296ms/step - loss: 7328.7896 - val_loss: 6904.6313\n",
      "Epoch 9/50\n",
      "211/211 [==============================] - 67s 319ms/step - loss: 6444.9609 - val_loss: 6119.5073\n",
      "Epoch 10/50\n",
      "211/211 [==============================] - 64s 304ms/step - loss: 5764.4756 - val_loss: 5517.5537\n",
      "Epoch 11/50\n",
      "211/211 [==============================] - 70s 333ms/step - loss: 5215.1182 - val_loss: 5055.6387\n",
      "Epoch 12/50\n",
      "211/211 [==============================] - 63s 299ms/step - loss: 4841.6191 - val_loss: 4715.0869\n",
      "Epoch 13/50\n",
      "211/211 [==============================] - 65s 310ms/step - loss: 4567.6929 - val_loss: 4472.6108\n",
      "Epoch 14/50\n",
      "211/211 [==============================] - 61s 288ms/step - loss: 4337.5303 - val_loss: 4306.4263\n",
      "Epoch 15/50\n",
      "167/211 [======================>.......] - ETA: 14s - loss: 4264.7119"
     ]
    }
   ],
   "source": [
    "import numpy as np\n",
    "import pandas as pd\n",
    "from sklearn.model_selection import train_test_split\n",
    "from sklearn.preprocessing import StandardScaler\n",
    "from sklearn.metrics import mean_squared_error\n",
    "from tensorflow.keras.preprocessing.sequence import pad_sequences\n",
    "from tensorflow.keras.layers import Input, LSTM, Dense, Dropout\n",
    "from tensorflow.keras.models import Model\n",
    "from tensorflow.keras.optimizers import Adam\n",
    "\n",
    "# Load your data\n",
    "df_1 = pd.read_csv(\"jobs_in_data.csv\")\n",
    "# prefrom one hot encoding\n",
    "df = pd.get_dummies(df_1)\n",
    "df['salary_in_usd'] /= 1000\n",
    "df['salary'] /= 1000\n",
    "\n",
    "\n",
    "# Define features and target variable\n",
    "# X_numerical = df.select_dtypes(include=np.number).drop(columns=['salary','salary_in_usd'])  # Select only numeric columns\n",
    "X_numerical = df.drop(columns=['salary','salary_in_usd'])\n",
    "y = df[\"salary_in_usd\"]\n",
    "\n",
    "# Scale numerical data\n",
    "scaler = StandardScaler()\n",
    "X_numerical_scaled = scaler.fit_transform(X_numerical)\n",
    "\n",
    "# Split data into train and test sets\n",
    "X_train_num, X_test_num, y_train, y_test = train_test_split(X_numerical_scaled, y, test_size=0.2, random_state=42)\n",
    "\n",
    "# Reshape the input data to include timestep dimension\n",
    "X_train_reshaped = X_train_num.reshape(X_train_num.shape[0], X_train_num.shape[1], 1)\n",
    "X_test_reshaped = X_test_num.reshape(X_test_num.shape[0], X_test_num.shape[1], 1)\n",
    "\n",
    "# Define LSTM model\n",
    "input_layer = Input(shape=(X_train_reshaped.shape[1], X_train_reshaped.shape[2]))\n",
    "lstm_layer1 = LSTM(64, return_sequences=True)(input_layer)\n",
    "dropout_layer1 = Dropout(0.2)(lstm_layer1)\n",
    "lstm_layer2 = LSTM(64)(dropout_layer1)\n",
    "dropout_layer2 = Dropout(0.2)(lstm_layer2)\n",
    "output_layer = Dense(1, activation='linear')(dropout_layer2)\n",
    "model = Model(inputs=input_layer, outputs=output_layer)\n",
    "\n",
    "# Compile the model with a lower learning rate\n",
    "optimizer = Adam(lr=0.001)\n",
    "model.compile(optimizer=optimizer, loss='mean_squared_error')\n",
    "\n",
    "# Train the model with more epochs\n",
    "model.fit(X_train_reshaped, y_train, epochs=50, batch_size=32, validation_split=0.1)\n",
    "\n",
    "# Evaluate the model\n",
    "y_pred = model.predict(X_test_reshaped)\n",
    "mse = mean_squared_error(y_test, y_pred)\n",
    "print(\"Mean Squared Error:\", mse)\n",
    "print(\"Root Mean Squared Error:\", np.sqrt(mse))\n"
   ]
  },
  {
   "cell_type": "markdown",
   "id": "e8545966",
   "metadata": {},
   "source": [
    "164983.9573371127\n",
    "39.736556370824324\n",
    "11.114768167172112\n",
    "63.93511358183519 -2000\n",
    "63.934037317068835 -50\n",
    "63.96655129502367 - one hot\n",
    "63.91029864854856"
   ]
  }
 ],
 "metadata": {
  "kernelspec": {
   "display_name": "Python 3",
   "language": "python",
   "name": "python3"
  },
  "language_info": {
   "codemirror_mode": {
    "name": "ipython",
    "version": 3
   },
   "file_extension": ".py",
   "mimetype": "text/x-python",
   "name": "python",
   "nbconvert_exporter": "python",
   "pygments_lexer": "ipython3",
   "version": "3.11.0"
  }
 },
 "nbformat": 4,
 "nbformat_minor": 5
}
