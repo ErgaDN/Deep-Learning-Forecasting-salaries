{
 "cells": [
  {
   "cell_type": "code",
   "execution_count": 9,
   "id": "initial_id",
   "metadata": {
    "collapsed": true,
    "ExecuteTime": {
     "end_time": "2024-02-26T14:24:43.275310600Z",
     "start_time": "2024-02-26T14:24:10.011284100Z"
    }
   },
   "outputs": [
    {
     "name": "stdout",
     "output_type": "stream",
     "text": [
      "Epoch 1/10\n",
      "211/211 [==============================] - 11s 23ms/step - loss: 26333143040.0000 - val_loss: 26357266432.0000\n",
      "Epoch 2/10\n",
      "211/211 [==============================] - 2s 10ms/step - loss: 26325157888.0000 - val_loss: 26350747648.0000\n",
      "Epoch 3/10\n",
      "211/211 [==============================] - 2s 11ms/step - loss: 26319904768.0000 - val_loss: 26346039296.0000\n",
      "Epoch 4/10\n",
      "211/211 [==============================] - 2s 10ms/step - loss: 26315311104.0000 - val_loss: 26341511168.0000\n",
      "Epoch 5/10\n",
      "211/211 [==============================] - 2s 11ms/step - loss: 26310797312.0000 - val_loss: 26337024000.0000\n",
      "Epoch 6/10\n",
      "211/211 [==============================] - 2s 10ms/step - loss: 26306306048.0000 - val_loss: 26332563456.0000\n",
      "Epoch 7/10\n",
      "211/211 [==============================] - 2s 10ms/step - loss: 26301886464.0000 - val_loss: 26328156160.0000\n",
      "Epoch 8/10\n",
      "211/211 [==============================] - 2s 11ms/step - loss: 26297518080.0000 - val_loss: 26323816448.0000\n",
      "Epoch 9/10\n",
      "211/211 [==============================] - 2s 10ms/step - loss: 26293198848.0000 - val_loss: 26319540224.0000\n",
      "Epoch 10/10\n",
      "211/211 [==============================] - 2s 10ms/step - loss: 26288920576.0000 - val_loss: 26315300864.0000\n",
      "59/59 [==============================] - 1s 6ms/step\n",
      "Mean Squared Error: 27219328682.917973\n",
      "Root Mean Squared Error: 164982.8132955611\n"
     ]
    }
   ],
   "source": [
    "import numpy as np\n",
    "import pandas as pd\n",
    "from sklearn.model_selection import train_test_split\n",
    "from sklearn.preprocessing import StandardScaler\n",
    "from sklearn.metrics import mean_squared_error\n",
    "from tensorflow.keras.preprocessing.sequence import pad_sequences\n",
    "from tensorflow.keras.layers import Input, LSTM, Dense\n",
    "from tensorflow.keras.models import Model\n",
    "\n",
    "# Load your data\n",
    "df = pd.read_csv(\"jobs_in_data.csv\")\n",
    "\n",
    "# Define features and target variable\n",
    "X_numerical = df.select_dtypes(include=np.number).drop(columns=\"salary\")  # Select only numeric columns\n",
    "y = df[\"salary\"]\n",
    "\n",
    "# Scale numerical data\n",
    "scaler = StandardScaler()\n",
    "X_numerical_scaled = scaler.fit_transform(X_numerical)\n",
    "\n",
    "# Split data into train and test sets\n",
    "X_train_num, X_test_num, y_train, y_test = train_test_split(X_numerical_scaled, y, test_size=0.2, random_state=42)\n",
    "\n",
    "# Reshape the input data to include timestep dimension\n",
    "X_train_reshaped = X_train_num.reshape(X_train_num.shape[0], X_train_num.shape[1], 1)\n",
    "X_test_reshaped = X_test_num.reshape(X_test_num.shape[0], X_test_num.shape[1], 1)\n",
    "\n",
    "# Define LSTM model\n",
    "input_layer = Input(shape=(X_train_reshaped.shape[1], X_train_reshaped.shape[2]))\n",
    "lstm_layer = LSTM(64)(input_layer)\n",
    "output_layer = Dense(1, activation='linear')(lstm_layer)\n",
    "model = Model(inputs=input_layer, outputs=output_layer)\n",
    "\n",
    "# Compile the model\n",
    "model.compile(optimizer='adam', loss='mean_squared_error')\n",
    "\n",
    "# Train the model\n",
    "model.fit(X_train_reshaped, y_train, epochs=10, batch_size=32, validation_split=0.1)\n",
    "\n",
    "# Evaluate the model\n",
    "y_pred = model.predict(X_test_reshaped)\n",
    "mse = mean_squared_error(y_test, y_pred)\n",
    "print(\"Mean Squared Error:\", mse)\n",
    "print(\"Root Mean Squared Error:\", np.sqrt(mse))\n"
   ]
  }
 ],
 "metadata": {
  "kernelspec": {
   "display_name": "Python 3",
   "language": "python",
   "name": "python3"
  },
  "language_info": {
   "codemirror_mode": {
    "name": "ipython",
    "version": 2
   },
   "file_extension": ".py",
   "mimetype": "text/x-python",
   "name": "python",
   "nbconvert_exporter": "python",
   "pygments_lexer": "ipython2",
   "version": "2.7.6"
  }
 },
 "nbformat": 4,
 "nbformat_minor": 5
}
